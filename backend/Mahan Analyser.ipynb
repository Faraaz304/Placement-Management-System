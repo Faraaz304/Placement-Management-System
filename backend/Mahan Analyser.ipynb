{
 "cells": [
  {
   "cell_type": "markdown",
   "id": "3be58857-7264-483b-942d-6dbaf82c04bf",
   "metadata": {},
   "source": [
    "# start"
   ]
  },
  {
   "cell_type": "code",
   "execution_count": 2,
   "id": "7c328606-d9e7-4bb3-a80e-d2b93b2c26c0",
   "metadata": {},
   "outputs": [],
   "source": [
    "import os\n",
    "import dotenv\n",
    "dotenv.load_dotenv()\n",
    "\n",
    "token=os.getenv(\"HUGGING_FACE_API\")\n",
    "\n"
   ]
  },
  {
   "cell_type": "code",
   "execution_count": 3,
   "id": "b0857121-9f09-4f5c-b298-8e55a6a3ad7b",
   "metadata": {},
   "outputs": [],
   "source": [
    "import PyPDF2\n",
    "\n",
    "def extract_text_from_pdf(pdf_path):\n",
    "    # Open the PDF file in binary mode\n",
    "    with open(pdf_path, 'rb') as file:\n",
    "        # Initialize the PDF reader\n",
    "        reader = PyPDF2.PdfReader(file)\n",
    "        # Initialize an empty string to store the extracted text\n",
    "        text = \"\"\n",
    "        # Loop through each page and extract the text\n",
    "        for page_num in range(len(reader.pages)):\n",
    "            page = reader.pages[page_num]\n",
    "            text += page.extract_text()\n",
    "    return text\n",
    "\n",
    "# Example usage:\n",
    "pdf_path = 'faraaz.pdf'\n",
    "resume_text = extract_text_from_pdf(pdf_path)\n",
    "# print(resume_text)\n"
   ]
  },
  {
   "cell_type": "markdown",
   "id": "c09be5c9-e240-4fb6-bbab-ed5d115f4df2",
   "metadata": {},
   "source": [
    "# All the different types of prompts"
   ]
  },
  {
   "cell_type": "code",
   "execution_count": 4,
   "id": "4236d913-80a3-4829-ac18-c06a5af827f0",
   "metadata": {},
   "outputs": [
    {
     "data": {
      "text/plain": [
       "'\\nI have the following resume\\nFARAAZ   SHAIKH\\n  9920834417\\n:\\nGit, Github,     \\nData Science, faraazshaikh304@gmail.com mohammedfaraazshaikh Faraaz304\\n.  Scikit learn ,Tensorflow, Keras , React , R ,SQL\\n  Machine learning    ,Deep Learning , OpenCV  ,Data Science\\n, Web Development \\nCertificatonsPotato disease classification\\n\\xa0TECHNICALEDUCATION\\nSt john Universal school\\nMithibai college\\nRajv Gandhi Institute of Technology\\nUniversity of Mumbai B.Tech in Artificial Intelligence and data Science\\n  — CGPA: 8.7/10\\nSKILLS\\nLanguages & Frameworks\\nTools & Platforms :\\nDatabases & Interests :\\nMiscellaneous :Python, C, JavaScript, Java ,\\nJupyter Notebook  Virtual Studio Code\\nMongoDB,\\nData Structures & Algorithms\\n Oct 2023–Dec2023\\n Created a Deep Learning Model, achieving a 96% accuracy rate in detecting  the type of disease preset in potato plant \\n It uses CNN (convolutional neural network) to identify image of damaged plant suggest the disease that can be Late Blight\\n          or  Early Blight depending upon the condition of the plant\\nTechnology used to make this project were python , Tensorflow library for Deep learning  Flask for connectivity form frontend\\n                  to backend and Html ,Css JavaScript for developing the user Interface\\n The model was trained on training dataset of 80% data and 10% for testing the dataset and remaining 10 % on validation\\ndataset and was trained on a diverse set of images \\nThe model consist of several Conv2D  and Maxpool2D layers  to get the features of the image forward by Flatten layer to\\nreduce the dimentions to be passed in Dense layer to give the output\\n Jan  2024–April 2024 Flask ,  Tensorflow ,Python ,Matplotlib  Dec 2021 – May 2025\\nMumbai, India\\nPROJECTS\\nFlask Image Processing \\nDeveloped a Flask application offering image processing functionalities such as background removal, face mesh\\ndetection, and face detection.\\nUtilized the cvzone library for implementing advanced image processing techniques.\\nFeatures include:\\nBackground Remover: Removes the background from images and replaces it with a user-defined color.\\nFace Mesh Detection: Identifies and highlights facial landmarks on images.\\nFace Detection: Detects faces in images and highlights them with bounding boxes.\\nPlacement Management System\\n in progress\\nMachine Learning course from Stanford UniversityJuly 2024–Feb 2024 Flask ,  OpenCV ,Cvzone ,Python ,Matplotlib \\nrate this resume out of 10\\njust give the number nothing else\\n'"
      ]
     },
     "execution_count": 4,
     "metadata": {},
     "output_type": "execute_result"
    }
   ],
   "source": [
    "prompt1 =f\"\"\"\n",
    "I have the following resume\n",
    "{resume_text}\n",
    "rate this resume out of 10\n",
    "just give the number nothing else\n",
    "\"\"\"\n",
    "prompt1"
   ]
  },
  {
   "cell_type": "code",
   "execution_count": 5,
   "id": "666977a3-31c8-42b3-a249-409c80eae362",
   "metadata": {},
   "outputs": [
    {
     "data": {
      "text/plain": [
       "'\\nI have the following resume, please recommend me a suitable job based on my skills and experience:\\nFARAAZ   SHAIKH\\n  9920834417\\n:\\nGit, Github,     \\nData Science, faraazshaikh304@gmail.com mohammedfaraazshaikh Faraaz304\\n.  Scikit learn ,Tensorflow, Keras , React , R ,SQL\\n  Machine learning    ,Deep Learning , OpenCV  ,Data Science\\n, Web Development \\nCertificatonsPotato disease classification\\n\\xa0TECHNICALEDUCATION\\nSt john Universal school\\nMithibai college\\nRajv Gandhi Institute of Technology\\nUniversity of Mumbai B.Tech in Artificial Intelligence and data Science\\n  — CGPA: 8.7/10\\nSKILLS\\nLanguages & Frameworks\\nTools & Platforms :\\nDatabases & Interests :\\nMiscellaneous :Python, C, JavaScript, Java ,\\nJupyter Notebook  Virtual Studio Code\\nMongoDB,\\nData Structures & Algorithms\\n Oct 2023–Dec2023\\n Created a Deep Learning Model, achieving a 96% accuracy rate in detecting  the type of disease preset in potato plant \\n It uses CNN (convolutional neural network) to identify image of damaged plant suggest the disease that can be Late Blight\\n          or  Early Blight depending upon the condition of the plant\\nTechnology used to make this project were python , Tensorflow library for Deep learning  Flask for connectivity form frontend\\n                  to backend and Html ,Css JavaScript for developing the user Interface\\n The model was trained on training dataset of 80% data and 10% for testing the dataset and remaining 10 % on validation\\ndataset and was trained on a diverse set of images \\nThe model consist of several Conv2D  and Maxpool2D layers  to get the features of the image forward by Flatten layer to\\nreduce the dimentions to be passed in Dense layer to give the output\\n Jan  2024–April 2024 Flask ,  Tensorflow ,Python ,Matplotlib  Dec 2021 – May 2025\\nMumbai, India\\nPROJECTS\\nFlask Image Processing \\nDeveloped a Flask application offering image processing functionalities such as background removal, face mesh\\ndetection, and face detection.\\nUtilized the cvzone library for implementing advanced image processing techniques.\\nFeatures include:\\nBackground Remover: Removes the background from images and replaces it with a user-defined color.\\nFace Mesh Detection: Identifies and highlights facial landmarks on images.\\nFace Detection: Detects faces in images and highlights them with bounding boxes.\\nPlacement Management System\\n in progress\\nMachine Learning course from Stanford UniversityJuly 2024–Feb 2024 Flask ,  OpenCV ,Cvzone ,Python ,Matplotlib \\nBased on this resume, recommend me 5 suitable job roles.\\nJust Output me the Job Roles Nothing Else\\n'"
      ]
     },
     "execution_count": 5,
     "metadata": {},
     "output_type": "execute_result"
    }
   ],
   "source": [
    "prompt2 =f\"\"\"\n",
    "I have the following resume, please recommend me a suitable job based on my skills and experience:\n",
    "{resume_text}\n",
    "Based on this resume, recommend me 5 suitable job roles.\n",
    "Just Output me the Job Roles Nothing Else\n",
    "\"\"\"\n",
    "prompt2"
   ]
  },
  {
   "cell_type": "code",
   "execution_count": 7,
   "id": "6a361c33-7cbe-44bb-b2ac-637a94e008fa",
   "metadata": {},
   "outputs": [
    {
     "name": "stdout",
     "output_type": "stream",
     "text": [
      " 1. Machine Learning Engineer\n",
      "2. Data Scientist\n",
      "3. Deep Learning Specialist\n",
      "4. AI Developer\n",
      "5. Full Stack Developer"
     ]
    }
   ],
   "source": [
    "from huggingface_hub import InferenceClient\n",
    "\n",
    "client = InferenceClient(\n",
    "    \"mistralai/Mistral-Small-Instruct-2409\",\n",
    "    token=token,\n",
    ")\n",
    "\n",
    "for message in client.chat_completion(\n",
    "\tmessages=[{\"role\": \"user\", \"content\": prompt2}],\n",
    "\tmax_tokens=500,\n",
    "\tstream=True,\n",
    "):\n",
    "    print(message.choices[0].delta.content, end=\"\")"
   ]
  },
  {
   "cell_type": "code",
   "execution_count": null,
   "id": "a2b58b09",
   "metadata": {},
   "outputs": [],
   "source": []
  }
 ],
 "metadata": {
  "kernelspec": {
   "display_name": "Python 3 (ipykernel)",
   "language": "python",
   "name": "python3"
  },
  "language_info": {
   "codemirror_mode": {
    "name": "ipython",
    "version": 3
   },
   "file_extension": ".py",
   "mimetype": "text/x-python",
   "name": "python",
   "nbconvert_exporter": "python",
   "pygments_lexer": "ipython3",
   "version": "3.11.5"
  }
 },
 "nbformat": 4,
 "nbformat_minor": 5
}
